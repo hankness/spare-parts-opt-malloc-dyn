{
  "nbformat": 4,
  "nbformat_minor": 0,
  "metadata": {
    "colab": {
      "provenance": []
    },
    "kernelspec": {
      "name": "python3",
      "display_name": "Python 3"
    },
    "language_info": {
      "name": "python"
    }
  },
  "cells": [
    {
      "cell_type": "code",
      "execution_count": 1,
      "metadata": {
        "id": "qrLZIuR4JV1_"
      },
      "outputs": [],
      "source": [
        "import numpy as np\n",
        "import math\n",
        "import time\n",
        "from scipy.stats import expon\n",
        "from scipy.stats import uniform\n",
        "import matplotlib.pyplot as plt\n"
      ]
    },
    {
      "cell_type": "code",
      "source": [
        "#Part 1: Spare parts optimization with marginal allocation\n",
        "\n",
        "lambda_vec = np.array([0.0514, 0.0479,0.0486,0.0553,0.0293,0.0559,0.0666,0.0384,0.0173])\n",
        "T_vec = np.array([7,     9,    17,    25,    14,    18,    35,     9,    14])\n",
        "c_vec = np.array([14,    15,    24,    21,    13,    46,    77,    33,    25])\n",
        "s_vec = np.full((9), 0)\n",
        "size = len(lambda_vec)\n",
        "C_max = 500\n",
        "\n",
        "\n",
        "def R(lambd, T, k):\n",
        "  \n",
        "  if k == 0:\n",
        "    return (1 - np.exp(-lambd*T))\n",
        "\n",
        "  return R(lambd, T, k-1) - (((lambd*T)**k)/np.math.factorial(k) * np.exp(-lambd*T))\n",
        "\n",
        "table = np.zeros((size,size))\n",
        "R_vec = np.zeros((size,size))\n",
        "\n",
        "\n",
        "for i in range(size):\n",
        "  for j in range(size):\n",
        "    R_vec[i,j] = R(lambda_vec[i], T_vec[i], j)\n",
        "    table[i,j] = R_vec[i,j] / c_vec[i]\n",
        "\n",
        "#Initial expected number of backorders for each LRU\n",
        "EBO_vec = np.zeros((9))\n",
        "for i in range(len(EBO_vec)):\n",
        "  EBO_vec[i] = lambda_vec[i]*T_vec[i]\n",
        "#Marginal allocation algorithm\n",
        "cost = 0\n",
        "k = 0\n",
        "\n",
        "cost_s = np.zeros((1), dtype=np.int64)\n",
        "while cost < C_max:\n",
        "\n",
        "  #Find largest quotient and cancel\n",
        "  largest_q = np.max(table)\n",
        "  l,j = np.where(table == largest_q) # l is the number of the column where largest quotient was found\n",
        "  table[l,j] = 0\n",
        "\n",
        "  k += 1\n",
        "  EBO_vec[l] = EBO_vec[l] - R_vec[l, s_vec[l]]\n",
        "  s_vec[l] = s_vec[l] + 1\n",
        "  cost += c_vec[l]\n",
        "\n",
        "  if k == 1:\n",
        "    s_solution = np.array([s_vec])\n",
        "    EBO_s = np.array([EBO_vec])\n",
        "    cost_s[0] = cost\n",
        "  else:\n",
        "    if cost < C_max:\n",
        "      s_solution = np.concatenate((s_solution, [s_vec]), axis=0)\n",
        "      EBO_s = np.concatenate((EBO_s, [EBO_vec]), axis=0)\n",
        "      cost_s = np.append(cost_s, cost)\n",
        "\n",
        "\n",
        "print(\"The efficient solutions s(k)\") # The efficient solutions s(k)\n",
        "s_solution = np.insert(s_solution, 0, np.zeros((9)), axis=0)\n",
        "print(s_solution)\n",
        "EBO_plot = np.zeros(shape=(EBO_s.shape[0]))\n",
        "for i in range(EBO_s.shape[0]):\n",
        "  EBO_plot[i] = np.sum(EBO_s[i])\n",
        "EBO_plot = np.insert(EBO_plot, 0, lambda_vec @ T_vec)\n",
        "cost_s = np.insert(cost_s, 0, 0)\n",
        "#print(EBO_plot)\n",
        "#print(cost_s)\n",
        "\n",
        "plt.plot(cost_s, EBO_plot)\n",
        "plt.xlabel(\"Cost\")\n",
        "plt.ylabel(\"EBO\")\n",
        "plt.title(\"EBO over cost\")\n",
        "\n",
        "\n",
        "\n"
      ],
      "metadata": {
        "colab": {
          "base_uri": "https://localhost:8080/",
          "height": 590
        },
        "id": "zRw6guxyhlQe",
        "outputId": "45ad5d30-25aa-464f-cdc9-792bc968b3d6"
      },
      "execution_count": 2,
      "outputs": [
        {
          "output_type": "stream",
          "name": "stdout",
          "text": [
            "The efficient solutions s(k)\n",
            "[[0 0 0 0 0 0 0 0 0]\n",
            " [0 0 0 1 0 0 0 0 0]\n",
            " [0 0 0 1 1 0 0 0 0]\n",
            " [0 0 1 1 1 0 0 0 0]\n",
            " [0 1 1 1 1 0 0 0 0]\n",
            " [1 1 1 1 1 0 0 0 0]\n",
            " [1 1 1 2 1 0 0 0 0]\n",
            " [1 1 1 2 1 1 0 0 0]\n",
            " [1 1 1 2 1 1 1 0 0]\n",
            " [1 1 1 2 1 1 1 1 0]\n",
            " [1 1 1 2 1 1 2 1 0]\n",
            " [1 1 1 2 1 1 2 1 1]\n",
            " [1 1 2 2 1 1 2 1 1]\n",
            " [1 1 2 3 1 1 2 1 1]\n",
            " [1 1 2 3 1 2 2 1 1]]\n"
          ]
        },
        {
          "output_type": "execute_result",
          "data": {
            "text/plain": [
              "Text(0.5, 1.0, 'EBO over cost')"
            ]
          },
          "metadata": {},
          "execution_count": 2
        },
        {
          "output_type": "display_data",
          "data": {
            "text/plain": [
              "<Figure size 432x288 with 1 Axes>"
            ],
            "image/png": "[encoded data removed]"
          },
          "metadata": {
            "needs_background": "light"
          }
        }
      ]
    },
    {
      "cell_type": "code",
      "source": [
        "#Part 1.2  EBO at s = 2\n",
        "\n",
        "s=2\n",
        "lambda_vec = np.array([0.0514, 0.0479,0.0486,0.0553,0.0293,0.0559,0.0666,0.0384,0.0173])\n",
        "T_vec = np.array([7,     9,    17,    25,    14,    18,    35,     9,    14])\n",
        "c_vec = np.array([14,    15,    24,    21,    13,    46,    77,    33,    25])\n",
        "s_vec = np.full((9), 2)\n",
        "size = len(lambda_vec)\n",
        "\n",
        "def getEBO(lambd, T, s, index):\n",
        "    R = 0\n",
        "    s = int(s)\n",
        "    for i in range(0,s):\n",
        "      R += R_vec[index, i]\n",
        "\n",
        "\n",
        "    return lambd*T - R\n",
        "\n",
        "table = np.zeros((size,size))\n",
        "R_vec = np.zeros((size,size))\n",
        "\n",
        "for i in range(size):\n",
        "  for j in range(size):\n",
        "    R_vec[i,j] = R(lambda_vec[i], T_vec[i], j)\n",
        "    table[i,j] = R_vec[i,j] / c_vec[i]\n",
        "\n",
        "\n",
        "#def getR(lambd, T, s):\n",
        "#  R=0\n",
        "#  for i in range(1, 100):\n",
        "#    R += (lambd*T)**i/np.math.factorial(i)*np.exp(-lambd*T)\n",
        "#    return R\n",
        "\n",
        "\n",
        "EBOvec = []\n",
        "EBOsum = 0 \n",
        "cost_vec = c_vec * s\n",
        "cost_total = 0 \n",
        "print(cost_vec)\n",
        "\n",
        "for i in range (0,size):\n",
        "  EBO = getEBO(lambda_vec[i],T_vec[i],2, i)\n",
        "  EBOvec.append(EBO)\n",
        "  EBOsum += EBO\n",
        "\n",
        "  cost_total += cost_vec[i]\n",
        "\n",
        "\n",
        "print(\"Ebovec\",EBOvec)\n",
        "print(\"EBOsum\",EBOsum)\n",
        "print(\"total cost\",cost_total)\n",
        "\n",
        "\n",
        "\n"
      ],
      "metadata": {
        "colab": {
          "base_uri": "https://localhost:8080/"
        },
        "id": "Nmdbjmn5ivHB",
        "outputId": "0adbe963-6467-473e-945d-3d089a42176b"
      },
      "execution_count": 3,
      "outputs": [
        {
          "output_type": "stream",
          "name": "stdout",
          "text": [
            "[ 28  30  48  42  26  92 154  66  50]\n",
            "Ebovec [0.006505902510998862, 0.010814018683791782, 0.06325437941361123, 0.23133970163457018, 0.009409958900445214, 0.10528368906406693, 0.7519667033878483, 0.005805239053919831, 0.002100945917163033]\n",
            "EBOsum 1.1864805385664154\n",
            "total cost 536\n"
          ]
        }
      ]
    },
    {
      "cell_type": "code",
      "source": [
        "#Part 2 dynamic programming\n",
        "\n",
        "def R(lambd, T, k):\n",
        "  \n",
        "  if k == 0:\n",
        "    return (1 - np.exp(-lambd*T))\n",
        "\n",
        "  return R(lambd, T, k-1) - (((lambd*T)**k)/np.math.factorial(k) * np.exp(-lambd*T))\n",
        "\n",
        "#initial data\n",
        "lambda_vec = np.array([0.0514, 0.0479,0.0486,0.0553,0.0293,0.0559,0.0666,0.0384,0.0173])\n",
        "T_vec = np.array([7,     9,    17,    25,    14,    18,    35,     9,    14])\n",
        "c_vec = np.array([14,    15,    24,    21,    13,    46,    77,    33,    25])\n",
        "size = len(lambda_vec)\n",
        "\n",
        "R_mat = np.zeros((size,size))\n",
        "for i in range(size):\n",
        "  for j in range(size):\n",
        "    R_mat[i,j] = R(lambda_vec[i], T_vec[i], j)\n",
        "\n",
        "C_Max = 501\n",
        "s_star = np.zeros((C_Max, size))\n",
        "EBO_vec = np.zeros(C_Max)\n",
        "EBO_vec[:] = np.dot(lambda_vec,T_vec)\n",
        "cost = np.zeros(C_Max)\n",
        "EBO_temp = np.full_like(lambda_vec, np.max(EBO_vec))\n",
        "\n",
        "for n in range(C_Max):\n",
        "  #stage n is the subproblem budget\n",
        "  if n < np.min(c_vec):\n",
        "      continue\n",
        "  else:\n",
        "      for j in range(size):\n",
        "          if n >= (c_vec @ s_star[n-c_vec[j]]) + c_vec[j]: # Checks if we can afford more\n",
        "              EBO_temp[j] = EBO_vec[n-c_vec[j]] - R_mat[j,int(s_star[n-c_vec[j],j])]\n",
        "\n",
        "      best_EBO = np.min(EBO_temp)\n",
        "      k = np.where(EBO_temp == best_EBO)[0][0]\n",
        "\n",
        "      if best_EBO < np.min(EBO_vec): \n",
        "          s_star[n] = s_star[n-c_vec[k]]\n",
        "          s_star[n,k] = s_star[n-c_vec[k],k] + 1\n",
        "          EBO_vec[n] = best_EBO\n",
        "      else:\n",
        "          s_star[n,:] = s_star[n-1]\n",
        "          EBO_vec[n] = EBO_vec[n-1]\n",
        "      cost[n] = c_vec @ s_star[n]\n",
        "      EBO_temp = np.full_like(lambda_vec, np.max(EBO_vec)) #reset EBO_temp for comparison \n",
        "\n",
        "\n",
        "#print(s_star[0:60,:])\n",
        "#print(c_vec)\n",
        "index = [0,100,150,350,500]\n",
        "for i in index:\n",
        "  print(\"Budget:\", i)\n",
        "  print(\"optimal allocation:\",s_star[i, :])\n",
        "  print(\"EBO:\",EBO_vec[i])\n",
        "  print(\"Cost:\",cost[i])\n",
        "\n",
        "\n",
        "plt.plot(cost,EBO_vec)\n",
        "plt.plot(cost_s, EBO_plot)\n",
        "plt.xlabel(\"Budget\")\n",
        "plt.ylabel(\"EBO\")\n",
        "plt.title(\"EBO over budget\")\n",
        "plt.legend([\"dynamic programming\", \"marginal allocation\"])\n",
        "\n"
      ],
      "metadata": {
        "colab": {
          "base_uri": "https://localhost:8080/",
          "height": 659
        },
        "id": "41tR2NbvhwCT",
        "outputId": "165d10b7-abe5-43c8-8de6-6180db447587"
      },
      "execution_count": 4,
      "outputs": [
        {
          "output_type": "stream",
          "name": "stdout",
          "text": [
            "Budget: 0\n",
            "optimal allocation: [0. 0. 0. 0. 0. 0. 0. 0. 0.]\n",
            "EBO: 7.334800000000001\n",
            "Cost: 0.0\n",
            "Budget: 100\n",
            "optimal allocation: [0. 1. 1. 2. 1. 0. 0. 0. 0.]\n",
            "EBO: 4.934660589002854\n",
            "Cost: 94.0\n",
            "Budget: 150\n",
            "optimal allocation: [0. 1. 1. 2. 1. 1. 0. 0. 0.]\n",
            "EBO: 4.300266233691852\n",
            "Cost: 140.0\n",
            "Budget: 350\n",
            "optimal allocation: [1. 1. 1. 2. 1. 1. 2. 1. 0.]\n",
            "EBO: 2.126844361080293\n",
            "Cost: 341.0\n",
            "Budget: 500\n",
            "optimal allocation: [2. 2. 2. 3. 2. 2. 2. 1. 1.]\n",
            "EBO: 1.0967799202818587\n",
            "Cost: 499.0\n"
          ]
        },
        {
          "output_type": "execute_result",
          "data": {
            "text/plain": [
              "<matplotlib.legend.Legend at 0x7f40124e4490>"
            ]
          },
          "metadata": {},
          "execution_count": 4
        },
        {
          "output_type": "display_data",
          "data": {
            "text/plain": [
              "<Figure size 432x288 with 1 Axes>"
            ],
            "image/png": "[encoded data removed]"
          },
          "metadata": {
            "needs_background": "light"
          }
        }
      ]
    }
  ]
}